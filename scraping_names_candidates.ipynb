{
 "cells": [
  {
   "cell_type": "markdown",
   "metadata": {},
   "source": [
    "## Web Scraping da matéria publicada pela BBC em 5 abril 2018\n",
    "> Eleições 2018: Os pré-candidatos à Presidência e quais dificuldades têm de superar até a campanha"
   ]
  },
  {
   "cell_type": "markdown",
   "metadata": {},
   "source": [
    "<strong> Objetivo:</strong> Retirar os nomes dos pré-candidatos à Presidência"
   ]
  },
  {
   "cell_type": "code",
   "execution_count": 4,
   "metadata": {},
   "outputs": [],
   "source": [
    "import requests\n",
    "from bs4 import BeautifulSoup"
   ]
  },
  {
   "cell_type": "code",
   "execution_count": 7,
   "metadata": {},
   "outputs": [],
   "source": [
    "page = requests.get(\"http://www.bbc.com/portuguese/brasil-42313908\")"
   ]
  },
  {
   "cell_type": "code",
   "execution_count": 10,
   "metadata": {},
   "outputs": [],
   "source": [
    "soup = BeautifulSoup(page.content, 'html.parser')"
   ]
  },
  {
   "cell_type": "code",
   "execution_count": 17,
   "metadata": {},
   "outputs": [
    {
     "data": {
      "text/plain": [
       "<h2 class=\"tags-title story-body__crosshead\">Tópicos relacionados</h2>"
      ]
     },
     "execution_count": 17,
     "metadata": {},
     "output_type": "execute_result"
    }
   ],
   "source": [
    "list_names =  soup.find_all('h2', class_='story-body__crosshead')\n",
    "list_names.pop()"
   ]
  },
  {
   "cell_type": "markdown",
   "metadata": {},
   "source": [
    "Lista de pré-candidatos à presidência em 2018"
   ]
  },
  {
   "cell_type": "code",
   "execution_count": 22,
   "metadata": {},
   "outputs": [
    {
     "data": {
      "text/plain": [
       "['Lula (PT)',\n",
       " 'Jair Bolsonaro (PSL)',\n",
       " 'Geraldo Alckmin (PSDB)',\n",
       " 'Marina Silva (Rede)',\n",
       " 'Ciro Gomes (PDT)',\n",
       " \"Manuela D'Ávila (PCdoB)\",\n",
       " 'Álvaro Dias (Podemos) ',\n",
       " 'Rodrigo Maia (DEM)',\n",
       " 'João Amoêdo (Novo)',\n",
       " 'Guilherme Boulos (PSOL)',\n",
       " 'Flávio Rocha (PRB)',\n",
       " 'Paulo Rabello de Castro (PSC)',\n",
       " 'Henrique Meirelles (MDB) ',\n",
       " 'Fernando Collor de Mello (PTC)']"
      ]
     },
     "execution_count": 22,
     "metadata": {},
     "output_type": "execute_result"
    }
   ],
   "source": [
    "[names.get_text() for names in list_names]"
   ]
  },
  {
   "cell_type": "code",
   "execution_count": null,
   "metadata": {},
   "outputs": [],
   "source": []
  }
 ],
 "metadata": {
  "kernelspec": {
   "display_name": "Python 2",
   "language": "python",
   "name": "python2"
  },
  "language_info": {
   "codemirror_mode": {
    "name": "ipython",
    "version": 2
   },
   "file_extension": ".py",
   "mimetype": "text/x-python",
   "name": "python",
   "nbconvert_exporter": "python",
   "pygments_lexer": "ipython2",
   "version": "2.7.14"
  }
 },
 "nbformat": 4,
 "nbformat_minor": 2
}
