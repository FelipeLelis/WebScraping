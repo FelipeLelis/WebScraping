{
 "cells": [
  {
   "cell_type": "code",
   "execution_count": 81,
   "metadata": {},
   "outputs": [],
   "source": [
    "import requests\n",
    "import re\n",
    "from bs4 import BeautifulSoup\n",
    "import pandas as pd\n",
    "import numpy as np\n",
    "import math"
   ]
  },
  {
   "cell_type": "code",
   "execution_count": 60,
   "metadata": {},
   "outputs": [],
   "source": [
    "n_candidates = 2"
   ]
  },
  {
   "cell_type": "code",
   "execution_count": 61,
   "metadata": {},
   "outputs": [],
   "source": [
    "total = {'saúde' : 0, 'segurança' : 0, 'educação' : 0, 'economia' : 0}"
   ]
  },
  {
   "cell_type": "code",
   "execution_count": 62,
   "metadata": {},
   "outputs": [],
   "source": [
    "def countSearch(page):\n",
    "    \n",
    "    pattern = {'saúde' : ['saú','enferm', 'hospital',  'médicos'],\n",
    "               'segurança' : ['segur',' polic','crim','violên',' lei',' Milit','ordem pública','pen',' defe',' infração','infrator','presidi','preso','vigilân','investig'],\n",
    "               'educação' : ['educação',' ensino',' professor',' escolas'],\n",
    "               'economia' : [' economi',' econômi',' produ',' mercado',' indústr',' comérci',' agro',' agric',' serviços',' setor',' terciário',' desenvolv',' terceiriz']}\n",
    "    \n",
    "    candidate = {'saúde' : 0, 'segurança' : 0, 'educação' : 0, 'economia' : 0}\n",
    "   \n",
    "    \n",
    "    page = requests.get(page)\n",
    "    soup = BeautifulSoup(page.content, 'html.parser')\n",
    "    \n",
    "    for key, words in pattern.items():                          \n",
    "        for w in words:\n",
    "            candidate[key]+=str(soup.find_all('p')).upper().count(w.upper())\n",
    "    \n",
    "    return candidate"
   ]
  },
  {
   "cell_type": "markdown",
   "metadata": {},
   "source": [
    "## Manuela D'Ávila (PC do B)"
   ]
  },
  {
   "cell_type": "code",
   "execution_count": 99,
   "metadata": {},
   "outputs": [],
   "source": [
    "#trocar esse site pois não mostra as propostas do candidato\n",
    "manuela = countSearch(\"http://bardebatom.com.br/noticia/manuela-davila-conheca-a-candidata-a-presidencia\")\n",
    "peso_manuela = {'saúde' : 0, 'segurança' : 0, 'educação' : 0, 'economia' : 0}"
   ]
  },
  {
   "cell_type": "markdown",
   "metadata": {},
   "source": [
    "## Levi Fidelix"
   ]
  },
  {
   "cell_type": "code",
   "execution_count": 100,
   "metadata": {
    "scrolled": true
   },
   "outputs": [],
   "source": [
    "levi = countSearch(\"http://congressoemfoco.uol.com.br/eleicoes-2014/programa-de-governo-de-levy-fidelix/\")\n",
    "peso_levi = {'saúde' : 0, 'segurança' : 0, 'educação' : 0, 'economia' : 0}"
   ]
  },
  {
   "cell_type": "markdown",
   "metadata": {},
   "source": [
    "## TERM FREQUENCY"
   ]
  },
  {
   "cell_type": "code",
   "execution_count": 101,
   "metadata": {},
   "outputs": [],
   "source": [
    "def tf(candidate):\n",
    "    \n",
    "    tf_candidate = {'saúde' : 0, 'segurança' : 0, 'educação' : 0, 'economia' : 0}\n",
    "    sum_candidate = sum(candidate.values())\n",
    "    \n",
    "    for key, words in total.items():\n",
    "        tf_candidate[key] = candidate[key]/sum_candidate\n",
    "    \n",
    "    return tf_candidate"
   ]
  },
  {
   "cell_type": "code",
   "execution_count": 102,
   "metadata": {},
   "outputs": [],
   "source": [
    "def count(manuela, levi, key):\n",
    "    cont = 0\n",
    "    if(manuela[key] > 0):\n",
    "        cont+=1\n",
    "    if(levi[key] > 0):\n",
    "        cont+=1\n",
    "    return cont"
   ]
  },
  {
   "cell_type": "code",
   "execution_count": 103,
   "metadata": {},
   "outputs": [],
   "source": [
    "def idf(manuela, levi):\n",
    "    \n",
    "    idf_candidate = {'saúde' : 0, 'segurança' : 0, 'educação' : 0, 'economia' : 0}\n",
    "    \n",
    "    for key, words in total.items():\n",
    "        idf_candidate[key] = np.log(n_candidates/count(manuela, levi, key))\n",
    "    \n",
    "    return idf_candidate"
   ]
  },
  {
   "cell_type": "code",
   "execution_count": 104,
   "metadata": {},
   "outputs": [],
   "source": [
    "def tf_idf(total, candidate, manuela, levi):\n",
    "    \n",
    "    ans = {'saúde' : 0, 'segurança' : 0, 'educação' : 0, 'economia' : 0}\n",
    "    tf1 = tf(candidate)\n",
    "    idf1 = idf(manuela, levi)\n",
    "\n",
    "    for key, words in ans.items():\n",
    "        ans[key] = tf1[key] * idf1[key]\n",
    "    \n",
    "    return ans"
   ]
  },
  {
   "cell_type": "code",
   "execution_count": 105,
   "metadata": {},
   "outputs": [
    {
     "name": "stdout",
     "output_type": "stream",
     "text": [
      "{'saúde': 13, 'segurança': 28, 'educação': 4, 'economia': 82}\n"
     ]
    }
   ],
   "source": [
    "for key, words in total.items():\n",
    "    total[key] = manuela[key] + levi[key]\n",
    "\n",
    "print(total)"
   ]
  },
  {
   "cell_type": "markdown",
   "metadata": {},
   "source": [
    "## Manuela "
   ]
  },
  {
   "cell_type": "code",
   "execution_count": 108,
   "metadata": {},
   "outputs": [
    {
     "data": {
      "text/plain": [
       "{'economia': 22, 'educação': 0, 'saúde': 2, 'segurança': 11}"
      ]
     },
     "execution_count": 108,
     "metadata": {},
     "output_type": "execute_result"
    }
   ],
   "source": [
    "manuela"
   ]
  },
  {
   "cell_type": "code",
   "execution_count": 106,
   "metadata": {},
   "outputs": [
    {
     "name": "stdout",
     "output_type": "stream",
     "text": [
      "{'saúde': 0.0, 'segurança': 0.0, 'educação': 0.0, 'economia': 0.0}\n"
     ]
    }
   ],
   "source": [
    "print(tf_idf(total, manuela, manuela, levi))"
   ]
  },
  {
   "cell_type": "markdown",
   "metadata": {},
   "source": [
    "## Levi"
   ]
  },
  {
   "cell_type": "code",
   "execution_count": 110,
   "metadata": {},
   "outputs": [
    {
     "data": {
      "text/plain": [
       "{'economia': 60, 'educação': 4, 'saúde': 11, 'segurança': 17}"
      ]
     },
     "execution_count": 110,
     "metadata": {},
     "output_type": "execute_result"
    }
   ],
   "source": [
    "levi"
   ]
  },
  {
   "cell_type": "code",
   "execution_count": 111,
   "metadata": {},
   "outputs": [
    {
     "name": "stdout",
     "output_type": "stream",
     "text": [
      "{'saúde': 0.0, 'segurança': 0.0, 'educação': 0.030136833937388925, 'economia': 0.0}\n"
     ]
    }
   ],
   "source": [
    "print(tf_idf(total, levi, manuela, levi))"
   ]
  },
  {
   "cell_type": "code",
   "execution_count": null,
   "metadata": {},
   "outputs": [],
   "source": []
  },
  {
   "cell_type": "code",
   "execution_count": null,
   "metadata": {},
   "outputs": [],
   "source": []
  }
 ],
 "metadata": {
  "kernelspec": {
   "display_name": "Python 3",
   "language": "python",
   "name": "python3"
  },
  "language_info": {
   "codemirror_mode": {
    "name": "ipython",
    "version": 3
   },
   "file_extension": ".py",
   "mimetype": "text/x-python",
   "name": "python",
   "nbconvert_exporter": "python",
   "pygments_lexer": "ipython3",
   "version": "3.6.4"
  }
 },
 "nbformat": 4,
 "nbformat_minor": 2
}
